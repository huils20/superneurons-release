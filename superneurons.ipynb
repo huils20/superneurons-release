{
  "nbformat": 4,
  "nbformat_minor": 0,
  "metadata": {
    "colab": {
      "name": "superneurons.ipynb",
      "provenance": [],
      "authorship_tag": "ABX9TyPvMTsHzKjor4kDbveYIPuh",
      "include_colab_link": true
    },
    "kernelspec": {
      "name": "python3",
      "display_name": "Python 3"
    },
    "language_info": {
      "name": "python"
    }
  },
  "cells": [
    {
      "cell_type": "markdown",
      "metadata": {
        "id": "view-in-github",
        "colab_type": "text"
      },
      "source": [
        "<a href=\"https://colab.research.google.com/github/huils20/superneurons-release/blob/master/superneurons.ipynb\" target=\"_parent\"><img src=\"https://colab.research.google.com/assets/colab-badge.svg\" alt=\"Open In Colab\"/></a>"
      ]
    },
    {
      "cell_type": "code",
      "metadata": {
        "colab": {
          "base_uri": "https://localhost:8080/"
        },
        "id": "PVuHXelC7i6D",
        "outputId": "c3265d50-f050-4bbf-c125-8ac87a26bcdb"
      },
      "source": [
        "!git clone https://github.com/huils20/superneurons-release.git\n",
        "!pwd\n",
        "!ls\n",
        "%cd superneurons-release\n",
        "!pwd\n",
        "!mkdir build\n",
        "!ls"
      ],
      "execution_count": 1,
      "outputs": [
        {
          "output_type": "stream",
          "name": "stdout",
          "text": [
            "Cloning into 'superneurons-release'...\n",
            "remote: Enumerating objects: 205, done.\u001b[K\n",
            "remote: Counting objects: 100% (15/15), done.\u001b[K\n",
            "remote: Compressing objects: 100% (15/15), done.\u001b[K\n",
            "remote: Total 205 (delta 8), reused 0 (delta 0), pack-reused 190\u001b[K\n",
            "Receiving objects: 100% (205/205), 174.41 KiB | 4.84 MiB/s, done.\n",
            "Resolving deltas: 100% (48/48), done.\n",
            "/content\n",
            "sample_data  superneurons-release\n",
            "/content/superneurons-release\n",
            "/content/superneurons-release\n",
            "build  CMakeLists.txt  config.osx  readme.md  src      tools\n",
            "cmake  config.linux    include\t   scripts    testing\n"
          ]
        }
      ]
    },
    {
      "cell_type": "code",
      "metadata": {
        "colab": {
          "base_uri": "https://localhost:8080/"
        },
        "id": "sVyNQmO7LoPI",
        "outputId": "9f0a0cb3-c9fa-4958-8d45-69753322efe3"
      },
      "source": [
        "%cd build\n",
        "!cmake ..\n",
        "!make -j8"
      ],
      "execution_count": 2,
      "outputs": [
        {
          "output_type": "stream",
          "name": "stdout",
          "text": [
            "/content/superneurons-release/build\n",
            "-- The C compiler identification is GNU 7.5.0\n",
            "-- The CXX compiler identification is GNU 7.5.0\n",
            "-- Check for working C compiler: /usr/bin/cc\n",
            "-- Check for working C compiler: /usr/bin/cc -- works\n",
            "-- Detecting C compiler ABI info\n",
            "-- Detecting C compiler ABI info - done\n",
            "-- Detecting C compile features\n",
            "-- Detecting C compile features - done\n",
            "-- Check for working CXX compiler: /usr/bin/c++\n",
            "-- Check for working CXX compiler: /usr/bin/c++ -- works\n",
            "-- Detecting CXX compiler ABI info\n",
            "-- Detecting CXX compiler ABI info - done\n",
            "-- Detecting CXX compile features\n",
            "-- Detecting CXX compile features - done\n",
            "-- Looking for pthread.h\n",
            "-- Looking for pthread.h - found\n",
            "-- Looking for pthread_create\n",
            "-- Looking for pthread_create - not found\n",
            "-- Looking for pthread_create in pthreads\n",
            "-- Looking for pthread_create in pthreads - not found\n",
            "-- Looking for pthread_create in pthread\n",
            "-- Looking for pthread_create in pthread - found\n",
            "-- Found Threads: TRUE  \n",
            "-- Found CUDA: /usr/local/cuda (found version \"11.1\") \n",
            "Platform is Linux\n",
            "CUDA NVCC FLAGS : -std=c++11\n",
            "detect architectures failed, using default setting of nvcc\n",
            "-- Found JPEG: /usr/lib/x86_64-linux-gnu/libjpeg.so (found version \"80\") \n",
            "Found libjpeg\n",
            "Release mode\n",
            "/content/superneurons-release/src/layer/padding_layer.cu;/content/superneurons-release/src/layer/softmax_layer.cu;/content/superneurons-release/src/solver.cu;/content/superneurons-release/src/tensor.cu\n",
            "-- \n",
            "-- ***************** SuperNeurons Configuration Summary *****************\n",
            "-- Genernal:\n",
            "--   Version           :   0.1\n",
            "--   System            :   Linux\n",
            "--   C++ complier      :   g++ 7.5.0\n",
            "--   Build type        :   Release\n",
            "--   CXX flags         :   -O3  -std=c++11 -W -Wno-unused-parameter\n",
            "--   link flags        :   /usr/local/cuda/lib64/libcudart_static.a-lpthreaddl/usr/lib/x86_64-linux-gnu/librt.so/usr/local/cuda/lib64/libcublas.soCUDA_cublas_device_LIBRARY-NOTFOUND/data/lwang53/lib/cuDNN7.0/lib64/libcudnn.so/usr/local/cuda/lib64/libcufft.so/usr/lib/x86_64-linux-gnu/libjpeg.so/data/lwang53/lib/glog/lib/libglog.so\n",
            "-- \n",
            "-- CUDA:\n",
            "--   CUDA path         :   /usr/local/cuda\n",
            "--   CUDNN path        :   /data/lwang53/lib/cuDNN7.0\n",
            "--   NVCC flags        :   -std=c++11\n",
            "-- \n",
            "-- Target GPUs:\n",
            "--   arch code         :   \n",
            "-- libjpeg:\n",
            "--   include dir       :   /usr/include\n",
            "--   libraries         :   /usr/lib/x86_64-linux-gnu/libjpeg.so\n",
            "-- ******************************** end *********************************\n",
            "CMake Error: The following variables are used in this project, but they are set to NOTFOUND.\n",
            "Please set them or make sure they are set and tested correctly in the CMake files:\n",
            "CUDA_cublas_device_LIBRARY (ADVANCED)\n",
            "    linked by target \"superneurons\" in directory /content/superneurons-release/src\n",
            "\n",
            "-- Configuring incomplete, errors occurred!\n",
            "See also \"/content/superneurons-release/build/CMakeFiles/CMakeOutput.log\".\n",
            "See also \"/content/superneurons-release/build/CMakeFiles/CMakeError.log\".\n",
            "make: *** No targets specified and no makefile found.  Stop.\n"
          ]
        }
      ]
    }
  ]
}